{
 "cells": [
  {
   "cell_type": "code",
   "execution_count": 0,
   "metadata": {
    "application/vnd.databricks.v1+cell": {
     "cellMetadata": {
      "byteLimit": 2048000,
      "rowLimit": 10000
     },
     "inputWidgets": {},
     "nuid": "47d8f15d-4d14-41c1-9ffc-5bce8621af10",
     "showTitle": false,
     "title": ""
    }
   },
   "outputs": [
    {
     "output_type": "stream",
     "name": "stdout",
     "output_type": "stream",
     "text": [
      "++\n||\n++\n++\n\n+-------------------------+------------------------------------------+\n|database_description_item|database_description_value                |\n+-------------------------+------------------------------------------+\n|Catalog Name             |spark_catalog                             |\n|Namespace Name           |classproject2                             |\n|Comment                  |                                          |\n|Location                 |dbfs:/user/hive/warehouse/classproject2.db|\n|Owner                    |root                                      |\n+-------------------------+------------------------------------------+\n\n++\n||\n++\n++\n\n"
     ]
    }
   ],
   "source": [
    "#Finding the ratings of movie with movie-lens datasets\n",
    "#Files downloaded from: https://files.grouplens.org/datasets/movielens/ml-latest-small.zip\n",
    "# 1. Import the pyspark and pyspark SQL modules and also specify the app name \n",
    "import pyspark\n",
    "from pyspark.sql import SparkSession\n",
    "from pyspark.sql import Row\n",
    "appName= \"project2-movieratings\"\n",
    "master= \"local\"\n",
    "\n",
    "# 2. Create a spark session and enable the Hive support to interact with the hive database\n",
    "spark = SparkSession.builder.master(master).appName(appName).enableHiveSupport().getOrCreate() \n",
    "spark.sql(\"CREATE DATABASE IF NOT EXISTS classproject2\").show()\n",
    "spark.sql(\"DESCRIBE DATABASE classproject2\").show(truncate=False)\n",
    "spark.sql(\"USE classproject2\").show() "
   ]
  },
  {
   "cell_type": "code",
   "execution_count": 0,
   "metadata": {
    "application/vnd.databricks.v1+cell": {
     "cellMetadata": {
      "byteLimit": 2048000,
      "rowLimit": 10000
     },
     "inputWidgets": {},
     "nuid": "89d1f4f4-b4d3-4a36-a26f-420d13d9f6a1",
     "showTitle": false,
     "title": ""
    }
   },
   "outputs": [
    {
     "output_type": "stream",
     "name": "stdout",
     "output_type": "stream",
     "text": [
      "+-------------+\n| databaseName|\n+-------------+\n|classproject2|\n|      default|\n+-------------+\n\n"
     ]
    }
   ],
   "source": [
    "#3. Verify the databases in hive using pyspark\n",
    "df=spark.sql(\"show databases\")\n",
    "df.show()"
   ]
  },
  {
   "cell_type": "code",
   "execution_count": 0,
   "metadata": {
    "application/vnd.databricks.v1+cell": {
     "cellMetadata": {
      "byteLimit": 2048000,
      "rowLimit": 10000
     },
     "inputWidgets": {},
     "nuid": "f3ee5a3f-1dc5-438e-890f-c86481879e77",
     "showTitle": false,
     "title": ""
    }
   },
   "outputs": [],
   "source": [
    "# 4. Read the CSV file (movies)from the local write to the table in hive using pyspark \n",
    "\n",
    "#Import spark sql types \n",
    "from pyspark.sql.types import StructType, StructField, StringType, DoubleType, IntegerType\n",
    "\n",
    "# Define the schema for the movie DataFrame\n",
    "movie_schema = StructType([\n",
    "    StructField('movieId', IntegerType(), True),\n",
    "    StructField('title', StringType(), True),\n",
    "    StructField('genres', StringType(), True)\n",
    "])\n",
    "#Load data from CSV to Spark Dataframe\n",
    "movies_df = spark.read.format(\"csv\").option(\"header\", \"true\").load(\"dbfs:/FileStore/shared_uploads/pawansharma2045@gmail.com/movies.csv\")"
   ]
  },
  {
   "cell_type": "code",
   "execution_count": 0,
   "metadata": {
    "application/vnd.databricks.v1+cell": {
     "cellMetadata": {
      "byteLimit": 2048000,
      "rowLimit": 10000
     },
     "inputWidgets": {},
     "nuid": "b2cca961-cefd-466c-b92a-cba51972dc1d",
     "showTitle": false,
     "title": ""
    }
   },
   "outputs": [],
   "source": [
    "# Define the schema for the ratings DataFrame\n",
    "ratings_schema = StructType([\n",
    "    StructField('userId', IntegerType(), True),\n",
    "    StructField('movieId', IntegerType(), True),\n",
    "    StructField('rating', DoubleType(), True),\n",
    "    StructField('timestamp', TimestampType(), True)\n",
    "])\n",
    "\n",
    "#Load data from CSV to Spark Dataframe\n",
    "ratings_df = spark.read.format(\"csv\").option(\"header\", \"true\").load(\"dbfs:/FileStore/shared_uploads/pawansharma2045@gmail.com/ratings.csv\")"
   ]
  },
  {
   "cell_type": "code",
   "execution_count": 0,
   "metadata": {
    "application/vnd.databricks.v1+cell": {
     "cellMetadata": {
      "byteLimit": 2048000,
      "rowLimit": 10000
     },
     "inputWidgets": {},
     "nuid": "1b4ada6f-f84b-42e2-8e16-eb009bbf92fe",
     "showTitle": false,
     "title": ""
    }
   },
   "outputs": [
    {
     "output_type": "stream",
     "name": "stdout",
     "output_type": "stream",
     "text": [
      "+-------+----------------------------------+-------------------------------------------+\n|movieId|title                             |genres                                     |\n+-------+----------------------------------+-------------------------------------------+\n|1      |Toy Story (1995)                  |Adventure|Animation|Children|Comedy|Fantasy|\n|2      |Jumanji (1995)                    |Adventure|Children|Fantasy                 |\n|3      |Grumpier Old Men (1995)           |Comedy|Romance                             |\n|4      |Waiting to Exhale (1995)          |Comedy|Drama|Romance                       |\n|5      |Father of the Bride Part II (1995)|Comedy                                     |\n|6      |Heat (1995)                       |Action|Crime|Thriller                      |\n|7      |Sabrina (1995)                    |Comedy|Romance                             |\n|8      |Tom and Huck (1995)               |Adventure|Children                         |\n|9      |Sudden Death (1995)               |Action                                     |\n|10     |GoldenEye (1995)                  |Action|Adventure|Thriller                  |\n+-------+----------------------------------+-------------------------------------------+\nonly showing top 10 rows\n\nroot\n |-- movieId: string (nullable = true)\n |-- title: string (nullable = true)\n |-- genres: string (nullable = true)\n\n"
     ]
    }
   ],
   "source": [
    "#Check and Show dataframe data by .show() method\n",
    "movies_df.show(10, truncate=False)\n",
    "\n",
    "#Print The schema of dataframe by .printSchema()\n",
    "movies_df.printSchema()"
   ]
  },
  {
   "cell_type": "code",
   "execution_count": 0,
   "metadata": {
    "application/vnd.databricks.v1+cell": {
     "cellMetadata": {
      "byteLimit": 2048000,
      "rowLimit": 10000
     },
     "inputWidgets": {},
     "nuid": "61ec1152-76f7-4065-807c-cefa11abb62b",
     "showTitle": false,
     "title": ""
    }
   },
   "outputs": [
    {
     "output_type": "stream",
     "name": "stdout",
     "output_type": "stream",
     "text": [
      "+------+-------+------+---------+\n|userId|movieId|rating|timestamp|\n+------+-------+------+---------+\n|1     |1      |4.0   |964982703|\n|1     |3      |4.0   |964981247|\n|1     |6      |4.0   |964982224|\n|1     |47     |5.0   |964983815|\n|1     |50     |5.0   |964982931|\n|1     |70     |3.0   |964982400|\n|1     |101    |5.0   |964980868|\n|1     |110    |4.0   |964982176|\n|1     |151    |5.0   |964984041|\n|1     |157    |5.0   |964984100|\n+------+-------+------+---------+\nonly showing top 10 rows\n\nroot\n |-- userId: string (nullable = true)\n |-- movieId: string (nullable = true)\n |-- rating: string (nullable = true)\n |-- timestamp: string (nullable = true)\n\n"
     ]
    }
   ],
   "source": [
    "\n",
    "#Check and Show dataframe data by .show() method\n",
    "ratings_df.show(10, truncate=False)\n",
    "\n",
    "#Print The schema of dataframe by .printSchema()\n",
    "ratings_df.printSchema()"
   ]
  },
  {
   "cell_type": "code",
   "execution_count": 0,
   "metadata": {
    "application/vnd.databricks.v1+cell": {
     "cellMetadata": {
      "byteLimit": 2048000,
      "rowLimit": 10000
     },
     "inputWidgets": {},
     "nuid": "7cfe0f3d-23ef-470e-b31a-b4eac7f86e5e",
     "showTitle": false,
     "title": ""
    }
   },
   "outputs": [
    {
     "output_type": "stream",
     "name": "stdout",
     "output_type": "stream",
     "text": [
      "+-------+--------------------+-----------+\n|movieId|               title|num_ratings|\n+-------+--------------------+-----------+\n|    356| Forrest Gump (1994)|        329|\n|    318|Shawshank Redempt...|        317|\n|    296| Pulp Fiction (1994)|        307|\n|    593|Silence of the La...|        279|\n|   2571|  Matrix, The (1999)|        278|\n+-------+--------------------+-----------+\n\n"
     ]
    }
   ],
   "source": [
    "#List all Movies with Number of Ratings\n",
    "#Write a SQL query in pyspark to list all movies with the number of ratings each has received.\n",
    "\n",
    "\n",
    "\n",
    "\n",
    "# Join movies and ratings DataFrames and compute number of ratings for each movie\n",
    "movies_with_ratings = movies_df.join(ratings_df, \"movieId\", \"left\")\n",
    "movies_num_ratings = movies_with_ratings.groupBy(\"movieId\", \"title\").agg(count(\"userId\").alias(\"num_ratings\"))\n",
    "\n",
    "# Order by number of ratings in descending order and show top 5\n",
    "top_movies_by_ratings = movies_num_ratings.orderBy(desc(\"num_ratings\")).limit(5)\n",
    "top_movies_by_ratings.show()"
   ]
  },
  {
   "cell_type": "code",
   "execution_count": 0,
   "metadata": {
    "application/vnd.databricks.v1+cell": {
     "cellMetadata": {
      "byteLimit": 2048000,
      "rowLimit": 10000
     },
     "inputWidgets": {},
     "nuid": "862c9b43-941c-45b5-942f-ca7a2cba6321",
     "showTitle": false,
     "title": ""
    }
   },
   "outputs": [
    {
     "output_type": "stream",
     "name": "stdout",
     "output_type": "stream",
     "text": [
      "+------+-----------------+\n|userId|num_ratings_given|\n+------+-----------------+\n|   414|             2698|\n|   599|             2478|\n|   474|             2108|\n|   448|             1864|\n|   274|             1346|\n|   610|             1302|\n|    68|             1260|\n|   380|             1218|\n|   606|             1115|\n|   288|             1055|\n+------+-----------------+\nonly showing top 10 rows\n\n"
     ]
    }
   ],
   "source": [
    "#List Users and Number of Ratings:\n",
    "# Compute number of ratings given by each user \n",
    "users_num_ratings = ratings_df.groupBy(\"userId\").agg(count(\"*\").alias(\"num_ratings_given\"))\n",
    "top_users_by_ratings_given = users_num_ratings.orderBy(desc(\"num_ratings_given\"))\n",
    "top_users_by_ratings_given.show(10)"
   ]
  },
  {
   "cell_type": "code",
   "execution_count": 0,
   "metadata": {
    "application/vnd.databricks.v1+cell": {
     "cellMetadata": {
      "byteLimit": 2048000,
      "rowLimit": 10000
     },
     "inputWidgets": {},
     "nuid": "891bd446-48a6-4194-9b4f-0e7743f57b84",
     "showTitle": false,
     "title": ""
    }
   },
   "outputs": [
    {
     "output_type": "stream",
     "name": "stdout",
     "output_type": "stream",
     "text": [
      "+-------+\n|movieId|\n+-------+\n|    101|\n|      3|\n|     47|\n|    110|\n|    163|\n|     70|\n|      6|\n|      1|\n|    157|\n|    151|\n+-------+\nonly showing top 10 rows\n\n"
     ]
    }
   ],
   "source": [
    "#List Movie IDs with Ratings:\n",
    "# List all movie IDs that have received at least one rating\n",
    "distinct_movie_ids = ratings_df.select(\"movieId\").distinct()\n",
    "distinct_movie_ids.show(10)\n"
   ]
  },
  {
   "cell_type": "code",
   "execution_count": 0,
   "metadata": {
    "application/vnd.databricks.v1+cell": {
     "cellMetadata": {
      "byteLimit": 2048000,
      "rowLimit": 10000
     },
     "inputWidgets": {},
     "nuid": "ff06f6e3-4d34-40b4-b415-50782543c70c",
     "showTitle": false,
     "title": ""
    }
   },
   "outputs": [
    {
     "output_type": "stream",
     "name": "stdout",
     "output_type": "stream",
     "text": [
      "+------+\n|userId|\n+------+\n|     3|\n|     5|\n|     1|\n|     4|\n|     2|\n+------+\n\n"
     ]
    }
   ],
   "source": [
    "#List Users with Ratings:\n",
    "# List all users who have rated at least one movie\n",
    "distinct_user_ids = ratings_df.select(\"userId\").distinct().limit(5)\n",
    "distinct_user_ids.show(10)\n"
   ]
  },
  {
   "cell_type": "code",
   "execution_count": 0,
   "metadata": {
    "application/vnd.databricks.v1+cell": {
     "cellMetadata": {
      "byteLimit": 2048000,
      "rowLimit": 10000
     },
     "inputWidgets": {},
     "nuid": "18609056-be17-4dc6-9f77-247a2776dc6e",
     "showTitle": false,
     "title": ""
    }
   },
   "outputs": [
    {
     "output_type": "stream",
     "name": "stdout",
     "output_type": "stream",
     "text": [
      "+------+----------------+----------------+------------------+\n|userId|max_rating_given|min_rating_given|  avg_rating_given|\n+------+----------------+----------------+------------------+\n|     1|             5.0|             1.0| 4.366379310344827|\n|    10|             5.0|             0.5|3.2785714285714285|\n|   100|             5.0|             1.0| 3.945945945945946|\n|   101|             5.0|             1.0| 3.557377049180328|\n|   102|             5.0|             1.0| 3.357142857142857|\n|   103|             5.0|             0.5| 3.907161803713528|\n|   104|             5.0|             0.5|3.5073260073260073|\n|   105|             5.0|             0.5| 4.116343490304709|\n|   106|             5.0|             2.5|4.4393939393939394|\n|   107|             5.0|             3.0| 3.911764705882353|\n+------+----------------+----------------+------------------+\nonly showing top 10 rows\n\n"
     ]
    }
   ],
   "source": [
    "#User Rating Statistics:\n",
    "from pyspark.sql.functions import avg, max, min\n",
    "\n",
    "# Compute statistics for each user (max, min, average ratings given)\n",
    "user_rating_stats = ratings_df.groupBy(\"userId\").agg(\n",
    "    max(\"rating\").alias(\"max_rating_given\"),\n",
    "    min(\"rating\").alias(\"min_rating_given\"),\n",
    "    avg(\"rating\").alias(\"avg_rating_given\")\n",
    ")\n",
    "user_rating_stats.show(10)\n"
   ]
  },
  {
   "cell_type": "code",
   "execution_count": 0,
   "metadata": {
    "application/vnd.databricks.v1+cell": {
     "cellMetadata": {
      "byteLimit": 2048000,
      "rowLimit": 10000
     },
     "inputWidgets": {},
     "nuid": "a6b76ea2-575c-4a0c-b845-30cd933d9778",
     "showTitle": false,
     "title": ""
    }
   },
   "outputs": [
    {
     "output_type": "stream",
     "name": "stdout",
     "output_type": "stream",
     "text": [
      "+-------+-------------------+-------------------+-------------------+\n|movieId|max_rating_received|min_rating_received|avg_rating_received|\n+-------+-------------------+-------------------+-------------------+\n|      1|                5.0|                0.5| 3.9209302325581397|\n|     10|                5.0|                0.5|  3.496212121212121|\n|    100|                4.0|                1.0| 2.7857142857142856|\n| 100044|                4.0|                4.0|                4.0|\n| 100068|                3.5|                3.5|                3.5|\n| 100083|                5.0|                2.0|                3.5|\n| 100106|                3.5|                3.5|                3.5|\n| 100159|                4.5|                4.5|                4.5|\n| 100163|                4.5|                0.5|                2.9|\n| 100194|                4.5|                4.5|                4.5|\n+-------+-------------------+-------------------+-------------------+\nonly showing top 10 rows\n\n"
     ]
    }
   ],
   "source": [
    "#Movie Rating Statistics:\n",
    "# Compute statistics for each movie (max, min, average ratings received)\n",
    "movie_rating_stats = ratings_df.groupBy(\"movieId\").agg(\n",
    "    max(\"rating\").alias(\"max_rating_received\"),\n",
    "    min(\"rating\").alias(\"min_rating_received\"),\n",
    "    avg(\"rating\").alias(\"avg_rating_received\")\n",
    ")\n",
    "movie_rating_stats.show(10)"
   ]
  },
  {
   "cell_type": "code",
   "execution_count": 0,
   "metadata": {
    "application/vnd.databricks.v1+cell": {
     "cellMetadata": {
      "byteLimit": 2048000,
      "rowLimit": 10000
     },
     "inputWidgets": {},
     "nuid": "070217b5-2f23-4c64-802d-b1ff2662169a",
     "showTitle": false,
     "title": ""
    }
   },
   "outputs": [
    {
     "output_type": "stream",
     "name": "stdout",
     "output_type": "stream",
     "text": [
      "+-------+--------------------+---------------+\n|movieId|               title|rating_variance|\n+-------+--------------------+---------------+\n|  32892|Ivan's Childhood ...|         10.125|\n|   2068|Fanny and Alexand...|         10.125|\n|   3223|Zed & Two Noughts...|            8.0|\n|    484|       Lassie (1994)|            8.0|\n|  84847|         Emma (2009)|            8.0|\n|   7564|Kwaidan (Kaidan) ...|            8.0|\n|  70946|      Troll 2 (1990)|           6.75|\n| 108689|I, Frankenstein (...|          6.125|\n|  70687|  Paper Heart (2009)|          6.125|\n|  26409|Clonus Horror, Th...|          6.125|\n+-------+--------------------+---------------+\nonly showing top 10 rows\n\n"
     ]
    }
   ],
   "source": [
    "from pyspark.sql.functions import col, count, desc, avg, max, min, variance\n",
    "\n",
    "\n",
    "# Movies with the Highest and Lowest Ratings:\n",
    "# Compute average ratings for each movie\n",
    "# Join movies and ratings DataFrames\n",
    "movies_with_ratings = movies_df.join(ratings_df, \"movieId\", \"inner\")\n",
    "\n",
    "# Calculate variance of ratings for each movie\n",
    "movie_variance = movies_with_ratings.groupBy(\"movieId\", \"title\").agg(variance(\"rating\").alias(\"rating_variance\"))\n",
    "\n",
    "# Order by rating variance in descending order and show top  movies with high variance\n",
    "high_variance_movies = movie_variance.orderBy(desc(\"rating_variance\"))\n",
    "high_variance_movies.show(10)\n"
   ]
  },
  {
   "cell_type": "code",
   "execution_count": 0,
   "metadata": {
    "application/vnd.databricks.v1+cell": {
     "cellMetadata": {
      "byteLimit": 2048000,
      "rowLimit": 10000
     },
     "inputWidgets": {},
     "nuid": "93273726-d850-4538-84d2-f3a0c06ce0a1",
     "showTitle": false,
     "title": ""
    }
   },
   "outputs": [
    {
     "output_type": "stream",
     "name": "stdout",
     "output_type": "stream",
     "text": [
      "+-------+--------------------+----------+\n|movieId|               title|avg_rating|\n+-------+--------------------+----------+\n| 173619|    Fugitives (1986)|       5.0|\n| 145994|Formula of Love (...|       5.0|\n|   3851|I'm the One That ...|       5.0|\n|   5607|Son of the Bride ...|       5.0|\n| 141816|    12 Chairs (1976)|       5.0|\n+-------+--------------------+----------+\nonly showing top 5 rows\n\n+-------+--------------------+----------+\n|movieId|               title|avg_rating|\n+-------+--------------------+----------+\n| 102735|Captain America (...|       0.5|\n|   5356|Giant Spider Inva...|       0.5|\n|   4580|       Cyborg (1989)|       0.5|\n| 104017|3 dev adam (Three...|       0.5|\n|  89386|Pearl Jam Twenty ...|       0.5|\n+-------+--------------------+----------+\nonly showing top 5 rows\n\n"
     ]
    }
   ],
   "source": [
    "# Calculate average ratings for each movie\n",
    "movie_avg_ratings = movies_with_ratings.groupBy(\"movieId\", \"title\").agg(avg(\"rating\").alias(\"avg_rating\"))\n",
    "\n",
    "# Order by average rating in descending order and show top  highest rated movies\n",
    "highest_rated_movies = movie_avg_ratings.orderBy(desc(\"avg_rating\"))\n",
    "highest_rated_movies.show(5)\n",
    "\n",
    "# Order by average rating in ascending order and show top  lowest rated movies\n",
    "lowest_rated_movies = movie_avg_ratings.orderBy(\"avg_rating\")\n",
    "lowest_rated_movies.show(5)"
   ]
  }
 ],
 "metadata": {
  "application/vnd.databricks.v1+notebook": {
   "dashboards": [],
   "environmentMetadata": null,
   "language": "python",
   "notebookMetadata": {
    "pythonIndentUnit": 4
   },
   "notebookName": "project2",
   "widgets": {}
  }
 },
 "nbformat": 4,
 "nbformat_minor": 0
}
